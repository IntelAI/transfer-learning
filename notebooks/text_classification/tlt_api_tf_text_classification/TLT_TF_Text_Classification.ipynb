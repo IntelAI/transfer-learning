{
 "cells": [
  {
   "cell_type": "markdown",
   "id": "ac1059eb",
   "metadata": {},
   "source": [
    "# Text Classification fine tuning using TensorFlow and the Intel® Transfer Learning Tool API\n",
    "\n",
    "This notebook uses the `tlt` library to fine tune a TF Hub pretrained model for text classification."
   ]
  },
  {
   "cell_type": "markdown",
   "id": "0bb70464",
   "metadata": {},
   "source": [
    "## 1. Import dependencies and setup parameters\n",
    "\n",
    "This notebook assumes that you have already followed the instructions to setup a TensorFlow environment with all the dependencies required to run the notebook."
   ]
  },
  {
   "cell_type": "code",
   "execution_count": null,
   "id": "20ab9972",
   "metadata": {},
   "outputs": [],
   "source": [
    "import os\n",
    "import pandas as pd\n",
    "import tensorflow as tf\n",
    "\n",
    "# tlt imports\n",
    "from tlt.models import model_factory\n",
    "from tlt.datasets import dataset_factory\n",
    "\n",
    "# Specify a directory for the dataset to be downloaded\n",
    "dataset_dir = os.environ[\"DATASET_DIR\"] if \"DATASET_DIR\" in os.environ else \\\n",
    "    os.path.join(os.environ[\"HOME\"], \"dataset\")\n",
    "     \n",
    "# Specify a directory for output\n",
    "output_dir = os.environ[\"OUTPUT_DIR\"] if \"OUTPUT_DIR\" in os.environ else \\\n",
    "    os.path.join(os.environ[\"HOME\"], \"output\")\n",
    "\n",
    "print(\"Dataset directory:\", dataset_dir)\n",
    "print(\"Output directory:\", output_dir)"
   ]
  },
  {
   "cell_type": "markdown",
   "id": "47787deb",
   "metadata": {},
   "source": [
    "## 2. Get the model\n",
    "\n",
    "In this step, we call the TLT model factory to list supported TensorFlow image classification models. This is a list of pretrained models from TFHub that we tested with our API. Optionally, the `verbose=True` argument can be added to the `print_supported_models` function call to get more information about each model (such as the links to TFHub, the original dataset, etc)."
   ]
  },
  {
   "cell_type": "code",
   "execution_count": null,
   "id": "52a4af60",
   "metadata": {},
   "outputs": [],
   "source": [
    "# See a list of available text classification models\n",
    "model_factory.print_supported_models(use_case='text_classification', framework='tensorflow')"
   ]
  },
  {
   "cell_type": "markdown",
   "id": "7293733f",
   "metadata": {},
   "source": [
    "Use the TLT model factory to get one of the models listed in the previous cell. The `get_model` function returns a TLT model object that will later be used for training."
   ]
  },
  {
   "cell_type": "code",
   "execution_count": null,
   "id": "050d7b0a",
   "metadata": {},
   "outputs": [],
   "source": [
    "model_name = \"small_bert/bert_en_uncased_L-2_H-128_A-2\"\n",
    "framework = \"tensorflow\"\n",
    "\n",
    "model = model_factory.get_model(model_name, framework)\n",
    "\n",
    "print(\"Model name:\", model.model_name)\n",
    "print(\"Framework:\", model.framework)\n",
    "print(\"Use case:\", model.use_case)"
   ]
  },
  {
   "cell_type": "markdown",
   "id": "37bf5a93",
   "metadata": {},
   "source": [
    "## 3. Get the dataset\n",
    "\n",
    "In this step we get a dataset from the [TensorFlow datasets catalog](https://www.tensorflow.org/datasets/catalog/overview) to use for fine tuning. The dataset factory currently supports the following text classification datasets: [imdb_reviews](https://www.tensorflow.org/datasets/catalog/imdb_reviews), [glue/sst2](https://www.tensorflow.org/datasets/catalog/imdb_reviews), and [glue/cola](https://www.tensorflow.org/datasets/catalog/glue#gluecola_default_config)."
   ]
  },
  {
   "cell_type": "code",
   "execution_count": null,
   "id": "d93313bf",
   "metadata": {},
   "outputs": [],
   "source": [
    "# Supported datasets: imdb_reviews, glue/sst2, glue/cola\n",
    "dataset_name = \"imdb_reviews\"\n",
    "dataset = dataset_factory.get_dataset(dataset_dir, model.use_case, model.framework, dataset_name,\n",
    "                                      dataset_catalog=\"tf_datasets\", shuffle_files=True)\n",
    "\n",
    "print(dataset.info)\n",
    "\n",
    "print(\"\\nClass names:\", str(dataset.class_names))"
   ]
  },
  {
   "cell_type": "code",
   "execution_count": null,
   "id": "587d1d9e",
   "metadata": {},
   "outputs": [],
   "source": [
    "# Batch the dataset and create splits for training and validation\n",
    "dataset.preprocess(batch_size=32)\n",
    "dataset.shuffle_split(train_pct=0.75, val_pct=0.25)"
   ]
  },
  {
   "cell_type": "markdown",
   "id": "352eda54",
   "metadata": {},
   "source": [
    "## 4. Fine tuning\n",
    "\n",
    "The TLT model's train function is called with the dataset that was just prepared, along with an output directory for checkpoints, and the number of training epochs.\n",
    "\n",
    "Mixed precision uses both 16-bit and 32-bit floating point types to make training run faster and use less memory. It is recommended to enable auto mixed precision training when running on platforms that support bfloat16 (Intel third or fourth generation Xeon processors). If it is enabled on a platform that does not support bfloat16, it can be detrimental to the training performance."
   ]
  },
  {
   "cell_type": "code",
   "execution_count": null,
   "id": "955a4a7e",
   "metadata": {},
   "outputs": [],
   "source": [
    "# If enable_auto_mixed_precision is set to None, auto mixed precision will be automatically enabled when running \n",
    "# with Intel fourth generation Xeon processors, and disabled for other platforms.\n",
    "enable_auto_mixed_precision = None\n",
    "\n",
    "history = model.train(dataset, output_dir, epochs=1, enable_auto_mixed_precision=enable_auto_mixed_precision)"
   ]
  },
  {
   "cell_type": "markdown",
   "id": "b76692aa",
   "metadata": {},
   "source": [
    "## 5. Evaluate\n",
    "\n",
    "Next we evaluate the fine tuned model. The model's evaluate function returns a list of metrics calculated from the dataset's validation subset."
   ]
  },
  {
   "cell_type": "code",
   "execution_count": null,
   "id": "20d0fd6c",
   "metadata": {},
   "outputs": [],
   "source": [
    "metrics = model.evaluate(dataset)\n",
    "\n",
    "# Print evaluation metrics\n",
    "for metric_name, metric_value in zip(model._model.metrics_names, metrics):\n",
    "    print(\"{}: {}\".format(metric_name, metric_value))"
   ]
  },
  {
   "cell_type": "markdown",
   "id": "7e08a1c9",
   "metadata": {},
   "source": [
    "## 6. Predict\n",
    "\n",
    "The model's predict function can be called with a batch of data from the dataset."
   ]
  },
  {
   "cell_type": "code",
   "execution_count": null,
   "id": "1ed07887",
   "metadata": {},
   "outputs": [],
   "source": [
    "# Get a single batch from the dataset object\n",
    "data_batch, labels = dataset.get_batch()\n",
    "\n",
    "# Call predict using the batch\n",
    "batch_predictions = model.predict(data_batch)\n",
    "\n",
    "# Maximum number of rows to show in the data frame\n",
    "max_items = 10\n",
    "\n",
    "# Collect the sentence text, score, and actual label for the batch\n",
    "prediction_list = []\n",
    "for i, (text, actual_label) in enumerate(zip(data_batch, labels)):\n",
    "    sentence = text.numpy().decode('utf-8')\n",
    "    score = batch_predictions[i]\n",
    "    prediction_list.append([sentence,\n",
    "                            tf.get_static_value(score)[0],\n",
    "                            dataset.get_str_label(int(actual_label.numpy()))])\n",
    "    if i + 1 >= max_items:\n",
    "        break\n",
    "\n",
    "# Display the results using a data frame\n",
    "result_df = pd.DataFrame(prediction_list, columns=[\"Input Text\", \"Score\", \"Actual Label\"])\n",
    "result_df.style.hide(axis=\"index\")"
   ]
  },
  {
   "cell_type": "markdown",
   "id": "f62be263",
   "metadata": {},
   "source": [
    "Raw text can also be passed to the predict function."
   ]
  },
  {
   "cell_type": "code",
   "execution_count": null,
   "id": "6f3cbd35",
   "metadata": {},
   "outputs": [],
   "source": [
    "result = model.predict(\"Awesome movie\")\n",
    "\n",
    "print(\"Predicted score:\", float(result))\n",
    "print(\"Predicted label:\", dataset.get_str_label(float(result)))"
   ]
  },
  {
   "cell_type": "markdown",
   "id": "64ada826",
   "metadata": {},
   "source": [
    "## 7. Export the saved model\n",
    "\n",
    "Lastly, we can call the TLT model export function to generate a `saved_model.pb`. The model is saved in a format that is ready to use with [TensorFlow Serving](https://github.com/tensorflow/serving). Each time the model is exported, a new numbered directory is created, which allows serving to pick up the latest model."
   ]
  },
  {
   "cell_type": "code",
   "execution_count": null,
   "id": "3981b2f5",
   "metadata": {},
   "outputs": [],
   "source": [
    "saved_model_dir = model.export(output_dir)"
   ]
  },
  {
   "cell_type": "markdown",
   "id": "3d0ed367",
   "metadata": {},
   "source": [
    "## Citations\n",
    "\n",
    "```\n",
    "@InProceedings{maas-EtAl:2011:ACL-HLT2011,\n",
    "  author    = {Maas, Andrew L.  and  Daly, Raymond E.  and  Pham, Peter T.  and  Huang, Dan  and  Ng, Andrew Y.  and  Potts, Christopher},\n",
    "  title     = {Learning Word Vectors for Sentiment Analysis},\n",
    "  booktitle = {Proceedings of the 49th Annual Meeting of the Association for Computational Linguistics: Human Language Technologies},\n",
    "  month     = {June},\n",
    "  year      = {2011},\n",
    "  address   = {Portland, Oregon, USA},\n",
    "  publisher = {Association for Computational Linguistics},\n",
    "  pages     = {142--150},\n",
    "  url       = {http://www.aclweb.org/anthology/P11-1015}\n",
    "}\n",
    "\n",
    "@inproceedings{wang2019glue,\n",
    "  title={{GLUE}: A Multi-Task Benchmark and Analysis Platform for Natural Language Understanding},\n",
    "  author={Wang, Alex and Singh, Amanpreet and Michael, Julian and Hill, Felix and Levy, Omer and Bowman, Samuel R.},\n",
    "  note={In the Proceedings of ICLR.},\n",
    "  year={2019}\n",
    "}\n",
    "```"
   ]
  }
 ],
 "metadata": {
  "kernelspec": {
   "display_name": "Python 3 (ipykernel)",
   "language": "python",
   "name": "python3"
  },
  "language_info": {
   "codemirror_mode": {
    "name": "ipython",
    "version": 3
   },
   "file_extension": ".py",
   "mimetype": "text/x-python",
   "name": "python",
   "nbconvert_exporter": "python",
   "pygments_lexer": "ipython3",
   "version": "3.9.12"
  }
 },
 "nbformat": 4,
 "nbformat_minor": 5
}
