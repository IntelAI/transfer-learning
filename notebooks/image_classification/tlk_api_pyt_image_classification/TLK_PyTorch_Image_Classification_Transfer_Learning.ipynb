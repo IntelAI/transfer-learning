{
 "cells": [
  {
   "cell_type": "markdown",
   "id": "3405d28d",
   "metadata": {},
   "source": [
    "# Transfer Learning for Image Classification using PyTorch and the TLK API\n",
    "\n",
    "This notebook uses the `tlk` library to do transfer learning for image classfication with a PyTorch pretrained model."
   ]
  },
  {
   "cell_type": "markdown",
   "id": "1d61b7ac",
   "metadata": {},
   "source": [
    "## 1. Import dependencies and setup parameters\n",
    "\n",
    "This notebook assumes that you have already followed the instructions to setup a PyTorch environment with all the dependencies required to run the notebook."
   ]
  },
  {
   "cell_type": "code",
   "execution_count": null,
   "id": "a0bf9fd0",
   "metadata": {},
   "outputs": [],
   "source": [
    "import matplotlib.pyplot as plt\n",
    "import numpy as np\n",
    "import os\n",
    "import pandas as pd\n",
    "import PIL.Image as Image\n",
    "import torch, torchvision\n",
    "import requests\n",
    "from io import BytesIO\n",
    "\n",
    "# tlk imports\n",
    "from tlk.datasets import dataset_factory\n",
    "from tlk.models import model_factory\n",
    "from tlk.utils.file_utils import download_and_extract_tar_file, download_file\n",
    "\n",
    "# Specify a directory for the dataset to be downloaded\n",
    "dataset_dir = os.environ[\"DATASET_DIR\"] if \"DATASET_DIR\" in os.environ else \\\n",
    "    os.path.join(os.environ[\"HOME\"], \"dataset\")\n",
    "     \n",
    "# Specify a directory for output\n",
    "output_dir = os.environ[\"OUTPUT_DIR\"] if \"OUTPUT_DIR\" in os.environ else \\\n",
    "    os.path.join(os.environ[\"HOME\"], \"output\")\n",
    "\n",
    "print(\"Dataset directory:\", dataset_dir)\n",
    "print(\"Output directory:\", output_dir)"
   ]
  },
  {
   "cell_type": "markdown",
   "id": "8f1fc78c",
   "metadata": {},
   "source": [
    "## 2. Get the model\n",
    "\n",
    "In this step, we call the TLK model factory to list supported PyTorch image classification models. This is a list of pretrained models from [torchvision](https://pytorch.org/vision/stable/datasets.html) that we tested with our API. Optionally, the `verbose=True` argument can be added to the `print_supported_models` function call to get more information about each model (such as the classification layer, image size, the original dataset, etc)."
   ]
  },
  {
   "cell_type": "code",
   "execution_count": null,
   "id": "ad4aeafd",
   "metadata": {},
   "outputs": [],
   "source": [
    "# See a list of available models\n",
    "model_factory.print_supported_models(use_case='image_classification', framework='pytorch')"
   ]
  },
  {
   "cell_type": "markdown",
   "id": "aa1d9d53",
   "metadata": {},
   "source": [
    "Next, use the TLK model factory to get one of the models listed in the previous cell. The `get_model` function returns a TLK model object that will later be used for training."
   ]
  },
  {
   "cell_type": "code",
   "execution_count": null,
   "id": "ee4e43c0",
   "metadata": {},
   "outputs": [],
   "source": [
    "model = model_factory.get_model(model_name='efficientnet_b0', framework='pytorch')\n",
    "\n",
    "print(\"Model name:\", model.model_name)\n",
    "print(\"Framework:\", model.framework)\n",
    "print(\"Use case:\", model.use_case)\n",
    "print(\"Image size:\", model.image_size)"
   ]
  },
  {
   "cell_type": "markdown",
   "id": "dabd4183",
   "metadata": {},
   "source": [
    "## 3. Get the dataset"
   ]
  },
  {
   "cell_type": "markdown",
   "id": "2d314ba0",
   "metadata": {},
   "source": [
    "### Option A: Use your own dataset\n",
    "\n",
    "To use your own image dataset for transfer learning with the rest of this notebook, format your images as `.jpg` files and save them in folders named after the classes that you want the model to predict. To provide a working example using the correct layout, we will download a flower species dataset. After downloading and extracting, you will have the following  subdirectories in your dataset directory. Each species subfolder will contain numerous `.jpg` files:\n",
    "\n",
    "```\n",
    "flower_photos\n",
    "  └── daisy\n",
    "  └── dandelion\n",
    "  └── roses\n",
    "  └── sunflowers\n",
    "  └── tulips\n",
    "```\n",
    "\n",
    "When using your own dataset, ensure that it is similarly organized with folders for each class. Change the `custom_dataset_path` variable to point to your dataset folder."
   ]
  },
  {
   "cell_type": "code",
   "execution_count": null,
   "id": "6ab17b6b",
   "metadata": {},
   "outputs": [],
   "source": [
    "# For demonstration purposes, we download a flowers dataset. To instead use your own dataset, set the\n",
    "# custom_dataset_path to point to your dataset's directory and comment out the download_and_extract_tar_file line.\n",
    "custom_dataset_path = os.path.join(dataset_dir, \"flower_photos\")\n",
    "\n",
    "if not os.path.exists(custom_dataset_path):\n",
    "    download_url = \"https://storage.googleapis.com/download.tensorflow.org/example_images/flower_photos.tgz\"\n",
    "    download_and_extract_tar_file(download_url, dataset_dir)"
   ]
  },
  {
   "cell_type": "markdown",
   "id": "8cccbc99",
   "metadata": {},
   "source": [
    "Call the dataset factory to load the dataset from the directory."
   ]
  },
  {
   "cell_type": "code",
   "execution_count": null,
   "id": "f6706c01",
   "metadata": {},
   "outputs": [],
   "source": [
    "# Load the dataset from the custom dataset path\n",
    "dataset = dataset_factory.load_dataset(dataset_dir=custom_dataset_path,\n",
    "                                       use_case='image_classification', \n",
    "                                       framework='pytorch')\n",
    "\n",
    "print(\"Class names:\", str(dataset.class_names))"
   ]
  },
  {
   "cell_type": "markdown",
   "id": "88897dc6",
   "metadata": {},
   "source": [
    "Skip to the next step [4. Prepare the dataset](#4.-Prepare-the-dataset) to continue using the custom dataset."
   ]
  },
  {
   "cell_type": "markdown",
   "id": "c7e3cd9b",
   "metadata": {},
   "source": [
    "### Option B: Use a dataset from the PyTorch's torchvision Datasets catalog\n",
    "\n",
    "To use a torchvision dataset, specify the name of the dataset in the `get_dataset` function. This example uses the `CIFAR10` dataset from the [torchvision datasets for image classification](https://pytorch.org/vision/stable/datasets.html#image-classification), but you can choose from a variety of options. If the dataset is not found in the dataset directory it will be downloaded. Subsequent runs will reuse the already downloaded dataset.\n",
    "\n",
    "These torchvision datasets are currently supported in the API:\n",
    "* CIFAR10\n",
    "* CIFAR100\n",
    "* Country211\n",
    "* DTD\n",
    "* Food101\n",
    "* FGVCAircraft\n",
    "* RenderedSST2"
   ]
  },
  {
   "cell_type": "code",
   "execution_count": null,
   "id": "ba8bb0cb",
   "metadata": {
    "scrolled": true
   },
   "outputs": [],
   "source": [
    "dataset = dataset_factory.get_dataset(dataset_dir=dataset_dir,\n",
    "                                      use_case='image_classification', \n",
    "                                      framework='pytorch',\n",
    "                                      dataset_name='CIFAR10',\n",
    "                                      dataset_catalog='torchvision')\n",
    "\n",
    "print(dataset.info)\n",
    "\n",
    "print(\"Class names:\", str(dataset.class_names))"
   ]
  },
  {
   "cell_type": "markdown",
   "id": "99f23249",
   "metadata": {},
   "source": [
    "## 4. Prepare the dataset\n",
    "\n",
    "Once you have your dataset from Option A or Option B above, use the following cells to preprocess the dataset. We resize the images to match the selected models and batch the images, then split them into training and validation subsets."
   ]
  },
  {
   "cell_type": "code",
   "execution_count": null,
   "id": "e7c95a70",
   "metadata": {},
   "outputs": [],
   "source": [
    "# Preprocess the dataset with an image size that matches the model and a batch size of 32\n",
    "batch_size = 32\n",
    "dataset.preprocess(model.image_size, batch_size=batch_size)"
   ]
  },
  {
   "cell_type": "code",
   "execution_count": null,
   "id": "dd91fbcf",
   "metadata": {},
   "outputs": [],
   "source": [
    "# Split the dataset into training and validation subsets\n",
    "dataset.shuffle_split(train_pct=.75, val_pct=.25)"
   ]
  },
  {
   "cell_type": "markdown",
   "id": "3704772b",
   "metadata": {},
   "source": [
    "## 5. Predict using the original model\n",
    "\n",
    "We get a single batch from our dataset, and use that to call predict on our model. Since we haven't done any training on the model yet, it will give us predictions using the original ImageNet trained model."
   ]
  },
  {
   "cell_type": "code",
   "execution_count": null,
   "id": "cd6782b0",
   "metadata": {},
   "outputs": [],
   "source": [
    "# Get a single batch from the dataset\n",
    "images, labels = dataset.get_batch()\n",
    "labels = [dataset.class_names[id] for id in labels]\n",
    "\n",
    "# Download the ImageNet labels and load them into a list\n",
    "labels_file = \"https://storage.googleapis.com/download.tensorflow.org/data/ImageNetLabels.txt\"\n",
    "labels_file_path = os.path.join(dataset_dir, os.path.basename(labels_file))\n",
    "\n",
    "if not os.path.exists(labels_file):\n",
    "    download_file(labels_file, dataset_dir)\n",
    "\n",
    "with open(labels_file_path) as f:\n",
    "    imagenet_labels = f.readlines()\n",
    "    imagenet_classes = [l.strip() for l in imagenet_labels]\n",
    "    \n",
    "# Predict using the original model\n",
    "predictions = model.predict(images)\n",
    "predictions = [imagenet_classes[id] for id in predictions]"
   ]
  },
  {
   "cell_type": "code",
   "execution_count": null,
   "id": "d37b808f",
   "metadata": {
    "scrolled": false
   },
   "outputs": [],
   "source": [
    "# Display the images with the predicted ImageNet label\n",
    "plt.figure(figsize=(18,14))\n",
    "plt.subplots_adjust(hspace=0.5)\n",
    "for n in range(min(batch_size, 30)):\n",
    "    plt.subplot(6,5,n+1)\n",
    "    inp = images[n]\n",
    "    inp = inp.numpy().transpose((1, 2, 0))\n",
    "    mean = np.array([0.485, 0.456, 0.406])\n",
    "    std = np.array([0.229, 0.224, 0.225])\n",
    "    inp = std * inp + mean\n",
    "    inp = np.clip(inp, 0, 1)\n",
    "    plt.imshow(inp)\n",
    "    correct_prediction = labels[n] == predictions[n]\n",
    "    color = \"darkgreen\" if correct_prediction else \"crimson\"\n",
    "    title = predictions[n].title() if correct_prediction else \"{}\\n({})\".format(predictions[n], labels[n]) \n",
    "    plt.title(title, fontsize=14, color=color)\n",
    "    plt.axis('off')\n",
    "_ = plt.suptitle(\"ImageNet predictions\", fontsize=20)\n",
    "plt.show()\n",
    "\n",
    "print(\"Correct predictions are shown in green\")\n",
    "print(\"Incorrect predictions are shown in red with the actual label in parenthesis\")"
   ]
  },
  {
   "cell_type": "markdown",
   "id": "a49ec7b7",
   "metadata": {},
   "source": [
    "## 6. Transfer Learning\n",
    "\n",
    "This step calls the TLK model's train function with the dataset that was just prepared. The training function will get the torchvision feature vector and add on a dense layer based on the number of classes in the dataset. The model is then compiled and trained based on the number of epochs specified in the argument."
   ]
  },
  {
   "cell_type": "code",
   "execution_count": null,
   "id": "a2b601fc",
   "metadata": {},
   "outputs": [],
   "source": [
    "history = model.train(dataset, output_dir=output_dir, epochs=1)"
   ]
  },
  {
   "cell_type": "markdown",
   "id": "e62cfdc9",
   "metadata": {},
   "source": [
    "## 7. Evaluate\n",
    "\n",
    "The next step shows how the model can be evaluated. The model's evaluate function returns a list of metrics calculated from the dataset's validation subset."
   ]
  },
  {
   "cell_type": "code",
   "execution_count": null,
   "id": "6520c3a3",
   "metadata": {},
   "outputs": [],
   "source": [
    "metrics = model.evaluate(dataset)"
   ]
  },
  {
   "cell_type": "markdown",
   "id": "707f17dd",
   "metadata": {},
   "source": [
    "## 8. Predict\n",
    "\n",
    "Lastly, we predict using the same single batch that we used earlier with the ImageNet trained model to visualize the model's predictions after training."
   ]
  },
  {
   "cell_type": "code",
   "execution_count": null,
   "id": "a2bc447f",
   "metadata": {
    "scrolled": false
   },
   "outputs": [],
   "source": [
    "# Predict with a single batch\n",
    "predictions = model.predict(images)\n",
    "\n",
    "# Map the predicted ids to the class names\n",
    "predictions = [dataset.class_names[id] for id in predictions]\n",
    "\n",
    "# Display the results\n",
    "plt.figure(figsize=(16,16))\n",
    "plt.subplots_adjust(hspace=0.5)\n",
    "for n in range(min(batch_size, 30)):\n",
    "    plt.subplot(6,5,n+1)\n",
    "    inp = images[n]\n",
    "    inp = inp.numpy().transpose((1, 2, 0))\n",
    "    mean = np.array([0.485, 0.456, 0.406])\n",
    "    std = np.array([0.229, 0.224, 0.225])\n",
    "    inp = std * inp + mean\n",
    "    inp = np.clip(inp, 0, 1)\n",
    "    plt.imshow(inp)\n",
    "    correct_prediction = labels[n] == predictions[n]\n",
    "    color = \"darkgreen\" if correct_prediction else \"crimson\"\n",
    "    title = predictions[n].title() if correct_prediction else \"{}\\n({})\".format(predictions[n], labels[n]) \n",
    "    plt.title(title, fontsize=14, color=color)\n",
    "    plt.axis('off')\n",
    "_ = plt.suptitle(\"Model predictions\", fontsize=16)\n",
    "plt.show()\n",
    "print(\"Correct predictions are shown in green\")\n",
    "print(\"Incorrect predictions are shown in red with the actual label in parenthesis\")"
   ]
  },
  {
   "cell_type": "markdown",
   "id": "6dc48f94",
   "metadata": {},
   "source": [
    "We can also predict using a single image that wasn't part of our original dataset. We download a flower image from the [Open Images Dataset](https://storage.googleapis.com/openimages/web/index.html) and then resize it to match our model."
   ]
  },
  {
   "cell_type": "code",
   "execution_count": null,
   "id": "5afd283f",
   "metadata": {},
   "outputs": [],
   "source": [
    "# Download an image from the web and resize it to match our model\n",
    "image_url = 'https://c8.staticflickr.com/8/7095/7210797228_c7fe51c3cb_z.jpg'\n",
    "\n",
    "image_shape = (model.image_size, model.image_size)\n",
    "daisy = Image.open(BytesIO(requests.get(image_url).content)).resize(image_shape)\n",
    "daisy"
   ]
  },
  {
   "cell_type": "markdown",
   "id": "7b7a0227",
   "metadata": {},
   "source": [
    "Then, we call predict by passing the np array for our image and add a dimension to our array to represent the batch."
   ]
  },
  {
   "cell_type": "code",
   "execution_count": null,
   "id": "22146e35",
   "metadata": {},
   "outputs": [],
   "source": [
    "# Get the image as a np array and call predict while adding a batch dimension (with np.newaxis) \n",
    "daisy = np.array(daisy)/255.0\n",
    "mean = np.array([0.485, 0.456, 0.406])\n",
    "std = np.array([0.229, 0.224, 0.225])\n",
    "daisy = std * daisy + mean\n",
    "daisy = np.clip(daisy, 0, 1)\n",
    "\n",
    "result = model.predict(torch.Tensor(daisy[np.newaxis, ...]))\n",
    "\n",
    "# Print the predicted class name\n",
    "print(dataset.class_names[result[0]])"
   ]
  },
  {
   "cell_type": "markdown",
   "id": "26130983",
   "metadata": {},
   "source": [
    "## 9. Export\n",
    "\n",
    "Lastly, we can call the TLK model `export` function to generate a `saved_model.pb`. Each time the model is exported, a new numbered directory is created, which allows serving to pick up the latest model. "
   ]
  },
  {
   "cell_type": "code",
   "execution_count": null,
   "id": "391afe2b",
   "metadata": {},
   "outputs": [],
   "source": [
    "model.export(output_dir)"
   ]
  },
  {
   "cell_type": "markdown",
   "id": "0947915a",
   "metadata": {},
   "source": [
    "## Dataset Citations\n",
    "\n",
    "```\n",
    "@ONLINE {tfflowers,\n",
    "author = \"The TensorFlow Team\",\n",
    "title = \"Flowers\",\n",
    "month = \"jan\",\n",
    "year = \"2019\",\n",
    "url = \"http://download.tensorflow.org/example_images/flower_photos.tgz\" }\n",
    "\n",
    "@ONLINE {CIFAR10,\n",
    "author = \"Alex Krizhevsky\",\n",
    "title = \"CIFAR-10\",\n",
    "year = \"2009\",\n",
    "url = \"http://www.cs.toronto.edu/~kriz/cifar.html\" }\n",
    "\n",
    "@article{openimages,\n",
    "  title={OpenImages: A public dataset for large-scale multi-label and multi-class image classification.},\n",
    "  author={Krasin, Ivan and Duerig, Tom and Alldrin, Neil and Veit, Andreas and Abu-El-Haija, Sami\n",
    "    and Belongie, Serge and Cai, David and Feng, Zheyun and Ferrari, Vittorio and Gomes, Victor\n",
    "    and Gupta, Abhinav and Narayanan, Dhyanesh and Sun, Chen and Chechik, Gal and Murphy, Kevin},\n",
    "  journal={Dataset available from https://github.com/openimages},\n",
    "  year={2016}\n",
    "}\n",
    "```"
   ]
  }
 ],
 "metadata": {
  "kernelspec": {
   "display_name": "Python 3 (ipykernel)",
   "language": "python",
   "name": "python3"
  },
  "language_info": {
   "codemirror_mode": {
    "name": "ipython",
    "version": 3
   },
   "file_extension": ".py",
   "mimetype": "text/x-python",
   "name": "python",
   "nbconvert_exporter": "python",
   "pygments_lexer": "ipython3",
   "version": "3.8.13"
  }
 },
 "nbformat": 4,
 "nbformat_minor": 5
}
