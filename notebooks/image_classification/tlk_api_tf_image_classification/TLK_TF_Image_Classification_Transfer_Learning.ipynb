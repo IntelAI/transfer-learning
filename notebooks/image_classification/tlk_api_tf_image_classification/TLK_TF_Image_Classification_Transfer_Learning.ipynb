{
 "cells": [
  {
   "cell_type": "markdown",
   "id": "ffc0d761",
   "metadata": {},
   "source": [
    "# Transfer Learning for Image Classification using the TLK API\n",
    "\n",
    "This notebook uses the `tlk` library to do transfer learning for image classfication with a TensorFlow pretrained model."
   ]
  },
  {
   "cell_type": "markdown",
   "id": "b266ca11",
   "metadata": {},
   "source": [
    "## 1. Import dependencies and setup parameters\n",
    "\n",
    "This notebook assumes that you have already followed the instructions in the [notebooks README.md](/notebooks/README.md) to setup a TensorFlow environment with all the dependencies required to run the notebook."
   ]
  },
  {
   "cell_type": "code",
   "execution_count": null,
   "id": "1b31cc75",
   "metadata": {},
   "outputs": [],
   "source": [
    "import matplotlib.pyplot as plt\n",
    "import numpy as np\n",
    "import os\n",
    "import pandas as pd\n",
    "import PIL.Image as Image\n",
    "import tensorflow as tf\n",
    "\n",
    "# tlk imports\n",
    "from tlk.datasets import dataset_factory\n",
    "from tlk.models import model_factory\n",
    "from tlk.utils.file_utils import download_and_extract_tar_file\n",
    "\n",
    "# Specify a directory for the dataset to be downloaded\n",
    "dataset_dir = os.environ[\"DATASET_DIR\"] if \"DATASET_DIR\" in os.environ else \\\n",
    "    os.path.join(os.environ[\"HOME\"], \"dataset\")\n",
    "     \n",
    "# Specify a directory for output\n",
    "output_dir = os.environ[\"OUTPUT_DIR\"] if \"OUTPUT_DIR\" in os.environ else \\\n",
    "    os.path.join(os.environ[\"HOME\"], \"output\")\n",
    "\n",
    "print(\"Dataset directory:\", dataset_dir)\n",
    "print(\"Output directory:\", output_dir)"
   ]
  },
  {
   "cell_type": "markdown",
   "id": "e49dafe3",
   "metadata": {},
   "source": [
    "## 2. Get the model\n",
    "\n",
    "In this step, we call the TLK model factory to list supported TensorFlow image classification models. This is a list of pretrained models from [TFHub](https://tfhub.dev) that we tested with our API. Optionally, the `verbose=True` argument can be added to the `print_supported_models` function call to get more information about each model (such as the link to TFHub, image size, the original dataset, etc)."
   ]
  },
  {
   "cell_type": "code",
   "execution_count": null,
   "id": "ad49dc51",
   "metadata": {},
   "outputs": [],
   "source": [
    "# See a list of available models\n",
    "model_factory.print_supported_models(use_case='image_classification', framework='tensorflow')"
   ]
  },
  {
   "cell_type": "markdown",
   "id": "764c7063",
   "metadata": {},
   "source": [
    "Next, use the TLK model factory to get one of the models listed in the previous cell. The `get_model` function returns a TLK model object that will later be used for training."
   ]
  },
  {
   "cell_type": "code",
   "execution_count": null,
   "id": "f101e379",
   "metadata": {},
   "outputs": [],
   "source": [
    "model = model_factory.get_model(model_name='resnet_v1_50', framework='tensorflow')\n",
    "\n",
    "print(\"Model name:\", model.model_name)\n",
    "print(\"Framework:\", model.framework)\n",
    "print(\"Use case:\", model.use_case)\n",
    "print(\"Image size:\", model.image_size)"
   ]
  },
  {
   "cell_type": "markdown",
   "id": "3351fbbc",
   "metadata": {},
   "source": [
    "## 3. Get the dataset\n",
    "\n",
    "We call the TLK dataset factory to get a sample image classification dataset. For demonstration purposes, we are using the [tf_flowers](https://www.tensorflow.org/datasets/catalog/tf_flowers) dataset from the [TensorFlow Datasets catalog](https://www.tensorflow.org/datasets). This dataset contains images of flowers in 5 different classes."
   ]
  },
  {
   "cell_type": "markdown",
   "id": "48670632",
   "metadata": {},
   "source": [
    "### Option A: Use your own dataset\n",
    "\n",
    "To use your own image dataset for transfer learning with the rest of this notebook, format your images as `.jpg` files and save them in folders named after the classes that you want the model to predict. To provide a working example using the correct layout, we will download a flower species dataset. After downloading and extracting, you will have the following  subdirectories in your dataset directory. Each species subfolder will contain numerous `.jpg` files:\n",
    "\n",
    "```\n",
    "flower_photos\n",
    "  └── daisy\n",
    "  └── dandelion\n",
    "  └── roses\n",
    "  └── sunflowers\n",
    "  └── tulips\n",
    "```\n",
    "\n",
    "When using your own dataset, ensure that it is similarly organized with folders for each class. Change the `custom_dataset_path` variable to point to your dataset folder."
   ]
  },
  {
   "cell_type": "code",
   "execution_count": null,
   "id": "8741e47e",
   "metadata": {},
   "outputs": [],
   "source": [
    "# For demonstration purposes, we download a flowers dataset. To instead use your own dataset, set the\n",
    "# custom_dataset_path to point to your dataset's directory and comment out the download_and_extract_tar_file line.\n",
    "custom_dataset_path = os.path.join(dataset_dir, \"flower_photos\")\n",
    "\n",
    "if not os.path.exists(custom_dataset_path):\n",
    "    download_url = \"https://storage.googleapis.com/download.tensorflow.org/example_images/flower_photos.tgz\"\n",
    "    download_and_extract_tar_file(download_url, dataset_dir)"
   ]
  },
  {
   "cell_type": "markdown",
   "id": "0ddf65ed",
   "metadata": {},
   "source": [
    "Call the dataset factory to load the dataset from the directory."
   ]
  },
  {
   "cell_type": "code",
   "execution_count": null,
   "id": "94ebc8e1",
   "metadata": {},
   "outputs": [],
   "source": [
    "# Load the dataset from the custom dataset path\n",
    "dataset = dataset_factory.load_dataset(dataset_dir=custom_dataset_path,\n",
    "                                       use_case='image_classification', \n",
    "                                       framework='tensorflow')\n",
    "\n",
    "print(\"Class names:\", str(dataset.class_names))"
   ]
  },
  {
   "cell_type": "markdown",
   "id": "2c24d234",
   "metadata": {},
   "source": [
    "Skip to the next step [4. Prepare the dataset](#4.-Prepare-the-dataset) to continue using the custom dataset."
   ]
  },
  {
   "cell_type": "markdown",
   "id": "a8335647",
   "metadata": {},
   "source": [
    "### Option B: Use a dataset from the TensorFlow Datasets catalog"
   ]
  },
  {
   "cell_type": "code",
   "execution_count": null,
   "id": "9fc1c0bd",
   "metadata": {},
   "outputs": [],
   "source": [
    "dataset = dataset_factory.get_dataset(dataset_dir=dataset_dir,\n",
    "                                      use_case='image_classification', \n",
    "                                      framework='tensorflow',\n",
    "                                      dataset_name='tf_flowers',\n",
    "                                      dataset_catalog='tf_datasets')\n",
    "\n",
    "print(dataset.info)\n",
    "\n",
    "print(\"\\nClass names:\", str(dataset.class_names))"
   ]
  },
  {
   "cell_type": "markdown",
   "id": "372a5bd2",
   "metadata": {},
   "source": [
    "## 4. Prepare the dataset\n",
    "\n",
    "Once you have your dataset from Option A or Option B above, use the following cells to preprocess the dataset. We resize the images to match the selected models and batch the images, then split them into training and validation subsets."
   ]
  },
  {
   "cell_type": "code",
   "execution_count": null,
   "id": "33c883c2",
   "metadata": {},
   "outputs": [],
   "source": [
    "# Preprocess the dataset with an image size that matches the model and a batch size of 32\n",
    "batch_size = 32\n",
    "dataset.preprocess(model.image_size, batch_size=batch_size)"
   ]
  },
  {
   "cell_type": "code",
   "execution_count": null,
   "id": "4b4dc950",
   "metadata": {},
   "outputs": [],
   "source": [
    "# Split the dataset into training and validation subsets\n",
    "dataset.shuffle_split(train_pct=.75, val_pct=.25)"
   ]
  },
  {
   "cell_type": "markdown",
   "id": "05acac53",
   "metadata": {},
   "source": [
    "## 5. Predict using the original model\n",
    "\n",
    "We get a single batch from our dataset, and use that to call predict on our model. Since we haven't done any training on the model yet, it will give us predictions using the original ImageNet trained model."
   ]
  },
  {
   "cell_type": "code",
   "execution_count": null,
   "id": "12ab6b31",
   "metadata": {},
   "outputs": [],
   "source": [
    "# Get a single batch from the dataset\n",
    "images, labels = dataset.get_batch()\n",
    "labels = [dataset.class_names[id] for id in labels]\n",
    "\n",
    "# Download the ImageNet labels and load them into a list\n",
    "labels_file = \"https://storage.googleapis.com/download.tensorflow.org/data/ImageNetLabels.txt\"\n",
    "downloaded_file = tf.keras.utils.get_file(\"labels.txt\", origin=labels_file)\n",
    "imagenet_classes = []\n",
    "\n",
    "with open(downloaded_file) as f:\n",
    "    imagenet_labels = f.readlines()\n",
    "    imagenet_classes = [l.strip() for l in imagenet_labels]\n",
    "\n",
    "# Predict using the original model\n",
    "predictions = model.predict(images)\n",
    "predictions = [imagenet_classes[id] for id in predictions]"
   ]
  },
  {
   "cell_type": "code",
   "execution_count": null,
   "id": "d0dd8992",
   "metadata": {},
   "outputs": [],
   "source": [
    "# Display the images with the predicted ImageNet label\n",
    "plt.figure(figsize=(18,14))\n",
    "plt.subplots_adjust(hspace=0.5)\n",
    "for n in range(min(batch_size, 30)):\n",
    "    plt.subplot(6,5,n+1)\n",
    "    plt.imshow(images[n])\n",
    "    correct_prediction = labels[n] == predictions[n]\n",
    "    color = \"darkgreen\" if correct_prediction else \"crimson\"\n",
    "    title = predictions[n].title() if correct_prediction else \"{}\\n({})\".format(predictions[n], labels[n]) \n",
    "    plt.title(title, fontsize=14, color=color)\n",
    "    plt.axis('off')\n",
    "_ = plt.suptitle(\"ImageNet predictions\", fontsize=20)\n",
    "plt.show()\n",
    "\n",
    "print(\"Correct predictions are shown in green\")\n",
    "print(\"Incorrect predictions are shown in red with the actual label in parenthesis\")"
   ]
  },
  {
   "cell_type": "markdown",
   "id": "7208e757",
   "metadata": {},
   "source": [
    "## 6. Transfer Learning\n",
    "\n",
    "This step calls the TLK model's train function with the dataset that was just prepared. The training function will get the TFHub feature vector and add on a dense layer based on the number of classes in the dataset. The model is then compiled and trained based on the number of epochs specified in the argument."
   ]
  },
  {
   "cell_type": "code",
   "execution_count": null,
   "id": "e7d51156",
   "metadata": {},
   "outputs": [],
   "source": [
    "history = model.train(dataset, output_dir=output_dir, epochs=1)"
   ]
  },
  {
   "cell_type": "markdown",
   "id": "81f75fa0",
   "metadata": {},
   "source": [
    "## 7. Evaluate\n",
    "\n",
    "The next step shows how the model can be evaluated. The model's evaluate function returns a list of metrics calculated from the dataset's validation subset."
   ]
  },
  {
   "cell_type": "code",
   "execution_count": null,
   "id": "2e14a2cb",
   "metadata": {},
   "outputs": [],
   "source": [
    "metrics = model.evaluate(dataset)"
   ]
  },
  {
   "cell_type": "code",
   "execution_count": null,
   "id": "104099d3",
   "metadata": {},
   "outputs": [],
   "source": [
    "# Print evaluation metrics\n",
    "for metric_name, metric_value in zip(model._model.metrics_names, metrics):\n",
    "    print(\"{}: {}\".format(metric_name, metric_value))"
   ]
  },
  {
   "cell_type": "markdown",
   "id": "8deba432",
   "metadata": {},
   "source": [
    "## 8. Predict\n",
    "\n",
    "Let's predict using the same single batch that we used earlier with the ImageNet trained model to visualize the model's predictions after training."
   ]
  },
  {
   "cell_type": "code",
   "execution_count": null,
   "id": "dd2aa7a2",
   "metadata": {},
   "outputs": [],
   "source": [
    "# Predict with a single batch\n",
    "predictions = model.predict(images)\n",
    "\n",
    "# Map the predicted ids to the class names\n",
    "predictions = [dataset.class_names[id] for id in predictions]\n",
    "\n",
    "# Display the results\n",
    "plt.figure(figsize=(16,16))\n",
    "plt.subplots_adjust(hspace=0.5)\n",
    "for n in range(min(batch_size, 30)):\n",
    "    plt.subplot(6,5,n+1)\n",
    "    plt.imshow(images[n])\n",
    "    correct_prediction = labels[n] == predictions[n]\n",
    "    color = \"darkgreen\" if correct_prediction else \"crimson\"\n",
    "    title = predictions[n].title() if correct_prediction else \"{}\\n({})\".format(predictions[n], labels[n]) \n",
    "    plt.title(title, fontsize=14, color=color)\n",
    "    plt.axis('off')\n",
    "_ = plt.suptitle(\"Model predictions\", fontsize=16)\n",
    "plt.show()\n",
    "print(\"Correct predictions are shown in green\")\n",
    "print(\"Incorrect predictions are shown in red with the actual label in parenthesis\")"
   ]
  },
  {
   "cell_type": "markdown",
   "id": "89b765cf",
   "metadata": {},
   "source": [
    "We can also predict using a single image that wasn't part of our original dataset. We download a flower image from the [Open Images Dataset](https://storage.googleapis.com/openimages/web/index.html) and then resize it to match our model."
   ]
  },
  {
   "cell_type": "code",
   "execution_count": null,
   "id": "48db69f0",
   "metadata": {},
   "outputs": [],
   "source": [
    "# Download an image from the web and resize it to match our model\n",
    "image_url = 'https://c8.staticflickr.com/8/7095/7210797228_c7fe51c3cb_z.jpg'\n",
    "daisy = tf.keras.utils.get_file(origin=image_url)\n",
    "\n",
    "image_shape = (model.image_size, model.image_size)\n",
    "daisy = Image.open(daisy).resize(image_shape)\n",
    "daisy"
   ]
  },
  {
   "cell_type": "markdown",
   "id": "02e31a87",
   "metadata": {},
   "source": [
    "Then, we call predict by passing the np array for our image and add a dimension to our array to represent the batch."
   ]
  },
  {
   "cell_type": "code",
   "execution_count": null,
   "id": "ac7c9115",
   "metadata": {},
   "outputs": [],
   "source": [
    "# Get the image as a np array and call predict while adding a batch dimension (with np.newaxis) \n",
    "daisy = np.array(daisy)/255.0\n",
    "result = model.predict(daisy[np.newaxis, ...])\n",
    "\n",
    "# Print the predicted class name\n",
    "print(dataset.class_names[result[0]])"
   ]
  },
  {
   "cell_type": "markdown",
   "id": "007cc8fe",
   "metadata": {},
   "source": [
    "## 9. Export\n",
    "\n",
    "Next, we can call the TLK model `export` function to generate a `saved_model.pb`. The model is saved in a format that is ready to use with [TensorFlow Serving](https://github.com/tensorflow/serving). Each time the model is exported, a new numbered directory is created, which allows serving to pick up the latest model. "
   ]
  },
  {
   "cell_type": "code",
   "execution_count": null,
   "id": "eed84d55",
   "metadata": {},
   "outputs": [],
   "source": [
    "saved_model_dir = model.export(output_dir)"
   ]
  },
  {
   "cell_type": "markdown",
   "id": "2ef6a18a",
   "metadata": {},
   "source": [
    "## 10. Post-training quantization\n",
    "\n",
    "In this section, the  `tlk` API uses [Intel® Neural Compressor (INC)](https://github.com/intel/neural-compressor) to benchmark and quantize the model to get optimal inference performance. Note that this feature has only been implemented for use with custom image classification datasets. If you used a dataset from the TensorFlow dataset catalog, this will not work.\n",
    "\n",
    "First, we create a config file to use with INC based on your model, dataset, and other quantization parameters. If you want more control over the configuration, you can provide your own custom yaml path for the `inc_config_file` instead of using the file generated by `write_inc_config_file()`."
   ]
  },
  {
   "cell_type": "code",
   "execution_count": null,
   "id": "d48ce394",
   "metadata": {},
   "outputs": [],
   "source": [
    "# Create an output directory for quantization output with the same base name as our saved model directory\n",
    "quantization_output_dir = os.path.join(output_dir, 'quantized_models', model.model_name,\n",
    "                                       os.path.basename(saved_model_dir))\n",
    "\n",
    "# Create a tuning workspace directory for INC\n",
    "nc_workspace = os.path.join(output_dir, 'nc_workspace')\n",
    "\n",
    "# Relative accuracy loss (1%)\n",
    "relative_accuracy_criterion = 0.01\n",
    "\n",
    "# Define the exit policy timeout (in seconds) and max number of trials. The tuning processing finishes when\n",
    "# the timeout or max trials is reached. A tuning timeout of 0 means that the tuning phase stops when the\n",
    "# accuracy criterion is met.\n",
    "timeout = 0\n",
    "max_trials=15\n",
    "\n",
    "# Write an INC config file based on the dataset that we are using\n",
    "inc_config_file = os.path.join(output_dir, 'inc_configs', model.model_name, os.path.basename(saved_model_dir),\n",
    "                               '{}.yaml'.format(model.model_name))\n",
    "model.write_inc_config_file(inc_config_file, dataset=dataset, batch_size=batch_size, overwrite=True,\n",
    "                            accuracy_criterion_relative=relative_accuracy_criterion, exit_policy_timeout=timeout,\n",
    "                            exit_policy_max_trials=max_trials, tuning_workspace=nc_workspace)\n",
    "\n",
    "if os.path.exists(inc_config_file):\n",
    "    print('INC config file has been written to: {}\\n'.format(inc_config_file))\n",
    "    \n",
    "    # Print configs for informational purposes\n",
    "    with open(inc_config_file, 'r') as f:\n",
    "        print(f.read())"
   ]
  },
  {
   "cell_type": "markdown",
   "id": "e27391d9",
   "metadata": {},
   "source": [
    "We use the INC config to benchmark the full precision model to see how it performs, as our baseline.\n",
    "\n",
    "> Note that there is a known issue when running INC from a notebook that you may sometimes see the error \n",
    "> `zmq.error.ZMQError: Address already in use`. If you see this error, rerun the cell again."
   ]
  },
  {
   "cell_type": "code",
   "execution_count": null,
   "id": "e4dbc03f",
   "metadata": {},
   "outputs": [],
   "source": [
    "model.benchmark(saved_model_dir, inc_config_file, 'performance')"
   ]
  },
  {
   "cell_type": "markdown",
   "id": "1a0a6652",
   "metadata": {},
   "source": [
    "Next we use INC to automatically search for the optimal quantization recipe for low-precision model inference within the accuracy loss constrains defined in the config. Running post training quantization may take several minutes, depending on your hardware and the exit policy (timeout and max trials)."
   ]
  },
  {
   "cell_type": "code",
   "execution_count": null,
   "id": "1d487fdf",
   "metadata": {},
   "outputs": [],
   "source": [
    "model.quantize(saved_model_dir, quantization_output_dir, inc_config_file)"
   ]
  },
  {
   "cell_type": "markdown",
   "id": "322672aa",
   "metadata": {},
   "source": [
    "Let's benchmark using the quantized model, so that we can compare the performance to the full precision model that was originally benchmarked."
   ]
  },
  {
   "cell_type": "code",
   "execution_count": null,
   "id": "e0bf68e6",
   "metadata": {},
   "outputs": [],
   "source": [
    "model.benchmark(quantization_output_dir, inc_config_file, 'performance')"
   ]
  },
  {
   "cell_type": "markdown",
   "id": "210fb6ff",
   "metadata": {},
   "source": [
    "## Dataset Citations\n",
    "\n",
    "```\n",
    "@ONLINE {tfflowers,\n",
    "author = \"The TensorFlow Team\",\n",
    "title = \"Flowers\",\n",
    "month = \"jan\",\n",
    "year = \"2019\",\n",
    "url = \"http://download.tensorflow.org/example_images/flower_photos.tgz\" }\n",
    "\n",
    "@article{openimages,\n",
    "  title={OpenImages: A public dataset for large-scale multi-label and multi-class image classification.},\n",
    "  author={Krasin, Ivan and Duerig, Tom and Alldrin, Neil and Veit, Andreas and Abu-El-Haija, Sami\n",
    "    and Belongie, Serge and Cai, David and Feng, Zheyun and Ferrari, Vittorio and Gomes, Victor\n",
    "    and Gupta, Abhinav and Narayanan, Dhyanesh and Sun, Chen and Chechik, Gal and Murphy, Kevin},\n",
    "  journal={Dataset available from https://github.com/openimages},\n",
    "  year={2016}\n",
    "}\n",
    "```"
   ]
  }
 ],
 "metadata": {
  "kernelspec": {
   "display_name": "Python 3 (ipykernel)",
   "language": "python",
   "name": "python3"
  },
  "language_info": {
   "codemirror_mode": {
    "name": "ipython",
    "version": 3
   },
   "file_extension": ".py",
   "mimetype": "text/x-python",
   "name": "python",
   "nbconvert_exporter": "python",
   "pygments_lexer": "ipython3",
   "version": "3.9.5"
  }
 },
 "nbformat": 4,
 "nbformat_minor": 5
}
