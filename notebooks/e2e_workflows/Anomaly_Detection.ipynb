{
 "cells": [
  {
   "cell_type": "markdown",
   "id": "3405d28d",
   "metadata": {},
   "source": [
    "# Image Anomaly Detection  using PyTorch and <br>Intel® Transfer Learning Tool API\n",
    "\n",
    "This notebook demonstrates anomaly detection using the Intel Transfer Learning Toolkit. It performs defect analysis with the MVTec dataset using PyTorch. The workflow uses a pretrained ResNet50 v1.5 model from torchvision."
   ]
  },
  {
   "cell_type": "markdown",
   "id": "1d61b7ac",
   "metadata": {},
   "source": [
    "## 1. Import dependencies and setup parameters\n",
    "\n",
    "This notebook assumes that you have already followed the instructions to setup a PyTorch environment with all the dependencies required to run the notebook."
   ]
  },
  {
   "cell_type": "code",
   "execution_count": null,
   "id": "a0bf9fd0",
   "metadata": {},
   "outputs": [],
   "source": [
    "import matplotlib.pyplot as plt\n",
    "import numpy as np\n",
    "import os\n",
    "import pandas as pd\n",
    "import PIL.Image as Image\n",
    "import torch, torchvision\n",
    "from torchvision.transforms.functional import InterpolationMode\n",
    "import requests\n",
    "from io import BytesIO\n",
    "\n",
    "# tlt imports\n",
    "from tlt.datasets import dataset_factory\n",
    "from tlt.models import model_factory\n",
    "from tlt.utils.file_utils import download_and_extract_tar_file, download_file\n",
    "\n",
    "# Specify a directory for the dataset to be downloaded\n",
    "dataset_dir = os.environ[\"DATASET_DIR\"] if \"DATASET_DIR\" in os.environ else \\\n",
    "    os.path.join(os.environ[\"HOME\"], \"dataset\")\n",
    "     \n",
    "# Specify a directory for output\n",
    "output_dir = os.environ[\"OUTPUT_DIR\"] if \"OUTPUT_DIR\" in os.environ else \\\n",
    "    os.path.join(os.environ[\"HOME\"], \"output\")\n",
    "\n",
    "print(\"Dataset directory:\", dataset_dir)\n",
    "print(\"Output directory:\", output_dir)"
   ]
  },
  {
   "cell_type": "markdown",
   "id": "8f1fc78c",
   "metadata": {},
   "source": [
    "## 2. Get or load the model\n",
    "\n",
    "In this step, we use the model factory to get the desired model. The `get_model` function returns a pretrained model object from a public model hub, while the `load_model` function loads a pretrained model from a checkpoint on your local disk or in memory.\n",
    "\n",
    "Here we are getting the pretrained `resnet50` model from Torchvision:"
   ]
  },
  {
   "cell_type": "code",
   "execution_count": null,
   "id": "ad4aeafd",
   "metadata": {},
   "outputs": [],
   "source": [
    "model = model_factory.get_model(model_name=\"resnet50\", framework=\"pytorch\", use_case='anomaly_detection')"
   ]
  },
  {
   "cell_type": "markdown",
   "id": "9d087ee7",
   "metadata": {},
   "source": [
    "To load a previously trained model from a file, use this:\n",
    "```\n",
    "model = model_factory.load_model(model_name=\"resnet50\", model=<PATH_TO_MODEL_FILE>, framework=\"pytorch\",     \n",
    "                                 use_case='anomaly_detection')\n",
    "```"
   ]
  },
  {
   "cell_type": "markdown",
   "id": "dabd4183",
   "metadata": {},
   "source": [
    "## 3. Get the dataset"
   ]
  },
  {
   "cell_type": "markdown",
   "id": "2d314ba0",
   "metadata": {},
   "source": [
    "To use [MVTec](https://www.mvtec.com/company/research/datasets/mvtec-ad) or your own image dataset for anomaly detection, your image files (`.jpg` or `.png`) should be arranged in one of two ways. \n",
    "\n",
    "### Method 1: Category Folders\n",
    "\n",
    "Arrange them in folders in the root dataset directory like this:\n",
    "\n",
    "```\n",
    "hazelnut\n",
    "  └── crack\n",
    "  └── cut\n",
    "  └── good\n",
    "  └── hole\n",
    "  └── print\n",
    "```\n",
    "\n",
    "<b>IMPORTANT:</b> There must be a subfolder named `good` and at least one other folder of defective examples. It does not matter what the names of the other folders are or how many there, as long as there is at least one. This would also be an acceptable Method 1 layout:\n",
    "\n",
    "```\n",
    "toothbrush\n",
    "  └── defective\n",
    "  └── good\n",
    "```\n",
    "\n",
    "TLT will encode all of the non-good images as \"bad\" and use the \"good\" images in the training set and a mix of good and bad images in the validation set.\n",
    "\n",
    "### Method 2: Train & Test Folders with Category Subfolders\n",
    "\n",
    "Arrange them in folders in the root dataset directory like this:\n",
    "\n",
    "```\n",
    "hazelnut\n",
    "  └── train\n",
    "      └── good\n",
    "  └── test\n",
    "      └── crack\n",
    "      └── cut\n",
    "      └── good\n",
    "      └── hole\n",
    "      └── print\n",
    "```\n",
    "\n",
    "When using this layout, TLT will use the exact defined split for train and validation subsets unless you use the `shuffle_split` method to re-shuffle and split up the \"good\" images with certain percentages. "
   ]
  },
  {
   "cell_type": "code",
   "execution_count": null,
   "id": "cf66a3ed",
   "metadata": {},
   "outputs": [],
   "source": [
    "# Select the subdirectory in dataset_dir to use\n",
    "img_dir = os.path.join(dataset_dir, 'hazelnut')"
   ]
  },
  {
   "cell_type": "code",
   "execution_count": null,
   "id": "357f3dfd",
   "metadata": {},
   "outputs": [],
   "source": [
    "dataset = dataset_factory.load_dataset(img_dir, \n",
    "                                       use_case='image_anomaly_detection', \n",
    "                                       framework=\"pytorch\")\n",
    "\n",
    "print(dataset._dataset)\n",
    "print(\"Class names:\", str(dataset.class_names))\n",
    "print(\"Defect names:\", dataset.defect_names)"
   ]
  },
  {
   "cell_type": "markdown",
   "id": "2200ef4e",
   "metadata": {},
   "source": [
    "Note: The defects argument can be used to filter the validation set to use only a subset of defect types. For example:\n",
    "```\n",
    "dataset = dataset_factory.load_dataset(img_dir, \n",
    "                                       use_case='image_anomaly_detection', \n",
    "                                       framework=\"pytorch\",\n",
    "                                       defects=['crack', 'hole'])\n",
    "```"
   ]
  },
  {
   "cell_type": "markdown",
   "id": "99f23249",
   "metadata": {},
   "source": [
    "## 4. Prepare the dataset\n",
    "Once you have your dataset, use the following cells to split and preprocess the data. We split them into training and test subsets, then resize the images to match the selected model, and then batch the images. Pass in optional arguments to customize the [Resize](https://pytorch.org/vision/main/generated/torchvision.transforms.Resize.html) or [Normalize](https://pytorch.org/vision/main/generated/torchvision.transforms.Normalize.html) transforms.\n",
    "Data augmentation can be applied to the training set by specifying the augmentations to be applied in the `add_aug` parameter. Supported augmentations are given below:\n",
    "1. hflip - RandomHorizontalFlip\n",
    "2. rotate - RandomRotate"
   ]
  },
  {
   "cell_type": "code",
   "execution_count": null,
   "id": "dd91fbcf",
   "metadata": {},
   "outputs": [],
   "source": [
    "# If using Method 1 layout, split the dataset into training and test subsets\n",
    "dataset.shuffle_split(train_pct=.75, val_pct=0.0, test_pct=0.25)"
   ]
  },
  {
   "cell_type": "code",
   "execution_count": null,
   "id": "e7c95a70",
   "metadata": {},
   "outputs": [],
   "source": [
    "# Preprocess with an image size that matches the model, batch size 32, and the desired interpolation method\n",
    "batch_size = 32\n",
    "dataset.preprocess(224, batch_size=batch_size, interpolation=InterpolationMode.LANCZOS)"
   ]
  },
  {
   "cell_type": "markdown",
   "id": "3704772b",
   "metadata": {},
   "source": [
    "## 5. Visualize samples from the dataset\n",
    "\n",
    "We get a single batch from our training and test subsets and visualize the images as a sanity check."
   ]
  },
  {
   "cell_type": "code",
   "execution_count": null,
   "id": "cd6782b0",
   "metadata": {},
   "outputs": [],
   "source": [
    "def plot_images(images, labels, sup_title, predictions=None):\n",
    "    plt.figure(figsize=(18,14))\n",
    "    plt.subplots_adjust(hspace=0.5)\n",
    "    for n in range(min(batch_size, 30)):\n",
    "        plt.subplot(6,5,n+1)\n",
    "        inp = images[n]\n",
    "        inp = inp.numpy().transpose((1, 2, 0))\n",
    "        mean = np.array([0.485, 0.456, 0.406])\n",
    "        std = np.array([0.229, 0.224, 0.225])\n",
    "        inp = std * inp + mean\n",
    "        inp = np.clip(inp, 0, 1)\n",
    "        plt.imshow(inp)\n",
    "        if predictions:\n",
    "            correct_prediction = labels[n] == predictions[n]\n",
    "            color = \"darkgreen\" if correct_prediction else \"crimson\"\n",
    "            title = predictions[n] if correct_prediction else \"{}\".format(predictions[n])\n",
    "        else:\n",
    "            good_sample = labels[n] == 'good'\n",
    "            color = \"darkgreen\" if labels[n] == 'good' else (\"crimson\" if labels[n] == 'bad' else \"black\")\n",
    "            title = labels[n]\n",
    "        plt.title(title, fontsize=14, color=color)\n",
    "        plt.axis('off')\n",
    "    _ = plt.suptitle(sup_title, fontsize=20)\n",
    "    plt.show()"
   ]
  },
  {
   "cell_type": "code",
   "execution_count": null,
   "id": "ffcd2071",
   "metadata": {},
   "outputs": [],
   "source": [
    "# Plot some images from the training set\n",
    "images, labels = dataset.get_batch()\n",
    "labels = [dataset.class_names[id] for id in labels]\n",
    "plot_images(images, labels, 'Training Samples')"
   ]
  },
  {
   "cell_type": "code",
   "execution_count": null,
   "id": "d37b808f",
   "metadata": {},
   "outputs": [],
   "source": [
    "# Plot some images from the test set\n",
    "images, labels = dataset.get_batch(subset='test')\n",
    "labels = [dataset.class_names[id] for id in labels]\n",
    "plot_images(images, labels, 'Test Samples')"
   ]
  },
  {
   "cell_type": "markdown",
   "id": "a49ec7b7",
   "metadata": {},
   "source": [
    "## 6. Training and Evaluation\n",
    "\n",
    "This step calls the model's train function with the dataset that was just prepared. The training function will get the torchvision feature extractor for the user's desired layer and extract features from the training set. The extracted features are used to perform a [principal component analysis](https://scikit-learn.org/stable/modules/generated/sklearn.decomposition.PCA.html). The model's evaluate function returns the AUROC metric ([area under](https://scikit-learn.org/stable/modules/generated/sklearn.metrics.auc.html) the [roc curve](https://scikit-learn.org/stable/modules/generated/sklearn.metrics.roc_curve.html)) calculated from the dataset's test subset."
   ]
  },
  {
   "cell_type": "markdown",
   "id": "ab510f51",
   "metadata": {},
   "source": [
    "### Train Arguments\n",
    "\n",
    "#### Required\n",
    "-  **dataset** (ImageAnomalyDetectionDataset, required): Dataset to use when training the model\n",
    "-  **output_dir** (str): Path to a writeable directory\n",
    "\n",
    "#### Optional\n",
    "-  **generate_checkpoints** (bool): Whether to save/preserve the best weights during SimSiam training (default: True)\n",
    "-  **initial_checkpoints** (str): The path to a starting weights file\n",
    "-  **layer_name** (str): The layer name whose output is desired for the extracted features\n",
    "-  **pooling** (str): Pooling to be applied on the extracted layer ('avg' or 'max') (default: 'avg')\n",
    "-  **kernel_size** (int): Kernel size in the pooling layer (default: 2)\n",
    "-  **pca_threshold** (float): Threshold to apply to PCA model (default: 0.99)\n",
    "\n",
    "Note: refer to release documentation for an up-to-date list of train arguments and their current descriptions"
   ]
  },
  {
   "cell_type": "code",
   "execution_count": null,
   "id": "8cd9420d",
   "metadata": {},
   "outputs": [],
   "source": [
    "# Examine the model's layers and decide which to use for feature extraction\n",
    "model.list_layers(verbose=False)\n",
    "layer = 'layer3'"
   ]
  },
  {
   "cell_type": "markdown",
   "id": "b19be956-e3c6-4d9d-847d-779c1c35da38",
   "metadata": {},
   "source": [
    "## Feature Extraction\n",
    "There are two feature extractor options available within the `model.train()` function.\n",
    "1. __No fine-tuning__ - To use a pretrained ResNet50/ResNet18 model for feature extraction, simply do not change the default `simsiam=False` input argument.\n",
    "1. [__SimSiam__](https://arxiv.org/abs/2011.10566) - A self-supervised neural network based on Siamese networks. It learns a meaningful representation of dataset without using any labels. If selected, SimSiam generates quality features that can help differentiate between regular and anomaly images in a given context. SimSiam produces two different augmented images from one underlying image. The end goal is to train the network to produce the same features for both images. It takes a ResNet model as the backbone and fine-tunes the model on the augmented dataset to get a better feature embedding. To use this feature extractor, download the SimSiam weights based on ResNet50 - https://dl.fbaipublicfiles.com/simsiam/models/100ep-256bs/pretrain/checkpoint_0099.pth.tar - set `simsiam=True`, and set `initial_checkpoints` to the path of the downloaded checkpoints in the `model.train()` function.\n",
    "\n",
    "### Optional: The SimSiam TwoCropTransform\n",
    "To train a Simsiam model, it is required to apply a TwoCropTransform augmentation technique on the dataset used for training. You can preview this augmentation on a sample batch after preprocessing by using `get_batch(simsiam=True)` and then use them for simsiam training by using `simsiam=True` in `model.train()` also."
   ]
  },
  {
   "cell_type": "code",
   "execution_count": null,
   "id": "6b49522f",
   "metadata": {},
   "outputs": [],
   "source": [
    "# Get a batch of training data with the simsiam transform applied to it\n",
    "simsiam_images, _ = dataset.get_batch(simsiam=True)\n",
    "\n",
    "# Plot the \"A\" samples showing the first set of augmented images\n",
    "plot_images(simsiam_images[0], ['{}A'.format(i) for i in range(batch_size)], 'SimSiam \"A\" Samples')"
   ]
  },
  {
   "cell_type": "code",
   "execution_count": null,
   "id": "a5da06df",
   "metadata": {},
   "outputs": [],
   "source": [
    "# Now plot the \"B\" samples showing the second set of augmented images based on the same underlying originals\n",
    "plot_images(simsiam_images[1], ['{}B'.format(i) for i in range(batch_size)], 'SimSiam \"B\" Samples')"
   ]
  },
  {
   "cell_type": "markdown",
   "id": "a2ba878d-1b03-4f7c-8f5a-6507ee1494a9",
   "metadata": {},
   "source": [
    "There is no fine-tuning being demonstrated here, but you can use `simsiam=True` and pass the checkpoint file to `model.train()` as follows, if desired:\n",
    "\n",
    "```\n",
    "components = model.train(dataset, output_dir, layer, feature_dim=1000, pred_dim=250, epochs=2, \n",
    "                         initial_checkpoints=<PATH_TO_CHECKPOINTS_FILE>, do_eval=True, seed=None,\n",
    "                         pooling='avg', kernel_size=2, pca_threshold=0.99, simsiam=True)\n",
    "```"
   ]
  },
  {
   "cell_type": "code",
   "execution_count": null,
   "id": "a2b601fc",
   "metadata": {},
   "outputs": [],
   "source": [
    "components = model.train(dataset, output_dir, layer, feature_dim=1000, pred_dim=250, epochs=2,\n",
    "                         seed=None, pooling='avg', kernel_size=2, pca_threshold=0.99, simsiam=False)"
   ]
  },
  {
   "cell_type": "code",
   "execution_count": null,
   "id": "6f60192d",
   "metadata": {},
   "outputs": [],
   "source": [
    "threshold = model.evaluate(dataset, use_test_set=True)"
   ]
  },
  {
   "cell_type": "markdown",
   "id": "3cb8fc62",
   "metadata": {},
   "source": [
    "## 7. Predict\n",
    "\n",
    "Using the same batch of test samples from above, get and view the model's predictions."
   ]
  },
  {
   "cell_type": "code",
   "execution_count": null,
   "id": "1f7ffe59",
   "metadata": {},
   "outputs": [],
   "source": [
    "predictions = model.predict(images, return_type='class', threshold=threshold)"
   ]
  },
  {
   "cell_type": "code",
   "execution_count": null,
   "id": "a40d0670",
   "metadata": {},
   "outputs": [],
   "source": [
    "plot_images(images, labels, 'Predictions', predictions=predictions)\n",
    "print(\"Correct predictions are shown in green\")\n",
    "print(\"Incorrect predictions are shown in red\")\n",
    "\n",
    "accuracy = sum([1 if p==labels[i] else 0 for i, p in enumerate(predictions)])/len(predictions)\n",
    "print(\"Accuracy: {}\".format(accuracy))"
   ]
  },
  {
   "cell_type": "markdown",
   "id": "0a877f33",
   "metadata": {},
   "source": [
    "## 8. Export"
   ]
  },
  {
   "cell_type": "code",
   "execution_count": null,
   "id": "abc054ff",
   "metadata": {},
   "outputs": [],
   "source": [
    "model.export(os.path.join(output_dir, 'anomaly'))"
   ]
  },
  {
   "cell_type": "markdown",
   "id": "707f17dd",
   "metadata": {},
   "source": [
    "## 9. Optional: Use the feature extractor on a different data loader\n",
    "\n",
    "If your dataset has a different format/layout than the one supported by Intel Transfer Learning Tool or if you want to perform your own modeling with the extracted features, just call the Intel Transfer Learning Tool model's `extract_features()` method directly passing in a `torch.Tensor` instead of through the `train()` call using a Intel Transfer Learning Tool dataset. This will give you complete flexibility and enable advanced custom analyses. You can also use the model's `pca()` method directly with the output of extract_features, as demonstrated below.\n",
    "\n",
    "The following cells do a similar workflow as above, but the custom dataloader duplicates the validation set to achieve a size of 17,000 samples."
   ]
  },
  {
   "cell_type": "code",
   "execution_count": null,
   "id": "a2bc447f",
   "metadata": {},
   "outputs": [],
   "source": [
    "import torchvision.transforms as TF\n",
    "from torchvision.transforms.functional import InterpolationMode\n",
    "from sklearn.decomposition import PCA\n",
    "from sklearn import metrics\n",
    "from torch.utils.data import Dataset\n",
    "import torchvision.datasets as datasets\n",
    "\n",
    "import torchvision.transforms as transforms\n",
    "from tqdm import tqdm\n",
    "from tlt.models.image_anomaly_detection.simsiam import loader, builder, utils\n",
    "\n",
    "\n",
    "# Set required variables if you aren't using a Intel Transfer Learning Tool dataset\n",
    "imagenet_mean = [0.485, 0.456, 0.406]\n",
    "imagenet_std = [0.229, 0.224, 0.225]\n",
    "im_size = 224\n",
    "batch_size = 32\n",
    "batch_size_ss = 64\n",
    "layer='layer3'\n",
    "pool='avg' #avg/max\n",
    "kernel_size=2\n",
    "pca_thresholds=0.99\n",
    "device = \"cpu\"\n",
    "num_workers = 56\n",
    "\n",
    "# Give the path and custom class for your dataset\n",
    "object_type = 'hazelnut'\n",
    "root_dir = os.path.join(dataset_dir, 'mvtec')\n",
    "\n",
    "class Mvtec(Dataset):\n",
    "    def __init__(self, root_dir, object_type=None, split=None, defect_type=None, im_size=None, transform=None):\n",
    "        \n",
    "        if split == 'train':\n",
    "            csv_name = '{}_train.csv'.format(object_type)\n",
    "        else:\n",
    "            csv_name = '{}_{}.csv'.format(object_type, defect_type)\n",
    "\n",
    "        csv_file = os.path.join(root_dir, object_type, csv_name)\n",
    "        self.data_frame = pd.read_csv(csv_file)\n",
    "        self.image_dir = os.path.join(root_dir, object_type)\n",
    "        if transform:\n",
    "            self.transform = transform\n",
    "        else:\n",
    "            self.im_size = (224, 224) if im_size is None else (im_size, im_size)\n",
    "            normalize_tf = TF.Normalize(mean=imagenet_mean, std=imagenet_std)\n",
    "            self.transform = TF.Compose([TF.Resize(tuple(self.im_size), interpolation=InterpolationMode.LANCZOS), TF.ToTensor(), normalize_tf])\n",
    "        self.num_classes = 1\n",
    "\n",
    "\n",
    "    def __len__(self):\n",
    "        return len(self.data_frame)\n",
    "\n",
    "    def __getitem__(self, idx):\n",
    "        img_name = os.path.join(self.image_dir, self.data_frame.iloc[idx, 0])\n",
    "        image = Image.open(img_name)\n",
    "        if image.mode == 'L':\n",
    "            image = image.convert('RGB')\n",
    "        image = self.transform(image)\n",
    "        labels = self.data_frame.iloc[idx, 1]\n",
    "        sample = {'data': image, 'label': labels}\n",
    "\n",
    "        return sample\n",
    "\n",
    "    def getclasses(self):\n",
    "        classes = [str(i) for i in range(self.num_classes)]\n",
    "        c = dict()\n",
    "        for i in range(len(classes)):\n",
    "            c[i] = classes[i]\n",
    "        return c"
   ]
  },
  {
   "cell_type": "markdown",
   "id": "213e8369-3f7c-4f7e-b6c8-01c5734f40c3",
   "metadata": {},
   "source": [
    "## Data Loader\n",
    "Prepare the dataset using custom MVTec Class and create train and test dataloaders.\n"
   ]
  },
  {
   "cell_type": "code",
   "execution_count": null,
   "id": "83eb7ef9",
   "metadata": {},
   "outputs": [],
   "source": [
    "print(\"Preparing Dataloader for Training Images \\n\")\n",
    "trainset = Mvtec(root_dir,object_type=object_type,split='train',im_size=im_size)\n",
    "testset = Mvtec(root_dir,object_type=object_type,split='test',defect_type='all',im_size=im_size)\n",
    "\n",
    "classes = trainset.getclasses()\n",
    "train_loader = torch.utils.data.DataLoader(trainset, batch_size=batch_size, shuffle=False, num_workers=num_workers)\n",
    "test_loader = torch.utils.data.DataLoader(testset, batch_size=batch_size, shuffle=False)"
   ]
  },
  {
   "cell_type": "markdown",
   "id": "e8c581dd-f494-4ae3-b502-4d50676a43c7",
   "metadata": {},
   "source": [
    "## Simsiam Data Loader\n",
    "If Simsiam training is enabled, the TwoCropsTransform transform is applied on the training dataset. If Simsiam is disabled, the following cell can be skipped.\n",
    "\n",
    "MoCo v2's aug: similar to SimCLR https://arxiv.org/abs/2002.05709"
   ]
  },
  {
   "cell_type": "code",
   "execution_count": null,
   "id": "f2beb2c2-992a-479a-880b-0d73504fce08",
   "metadata": {},
   "outputs": [],
   "source": [
    "traindir_ss = os.path.join(root_dir, object_type, 'train')\n",
    "\n",
    "augmentation = [\n",
    "    transforms.RandomResizedCrop(224, scale=(0.2, 1.)),\n",
    "    transforms.RandomApply([\n",
    "        transforms.ColorJitter(0.1, 0.1, 0.1, 0.1)], p=0.8),\n",
    "    transforms.RandomGrayscale(p=0.2),\n",
    "    transforms.RandomApply([loader.GaussianBlur([.1, 2.])], p=0.5),\n",
    "    transforms.RandomHorizontalFlip(),\n",
    "    transforms.ToTensor(),\n",
    "    transforms.Normalize(mean=[0.485, 0.456, 0.406],\n",
    "                                 std=[0.229, 0.224, 0.225])\n",
    "]\n",
    "\n",
    "train_dataset_ss = datasets.ImageFolder(\n",
    "    traindir_ss,\n",
    "    loader.TwoCropsTransform(transforms.Compose(augmentation)))\n",
    "\n",
    "train_sampler = None\n",
    "train_loader_ss = torch.utils.data.DataLoader(\n",
    "    train_dataset_ss, batch_size=batch_size_ss, shuffle=(train_sampler is None),\n",
    "    num_workers=num_workers, pin_memory=True, sampler=train_sampler, drop_last=False)"
   ]
  },
  {
   "cell_type": "markdown",
   "id": "4a70fb3a-4c61-474a-a991-d936b3e10f69",
   "metadata": {},
   "source": [
    "## Feature Extraction\n",
    "There are two feature extractor options available.\n",
    "1. __No fine-tuning__ - Use a pretrained ResNet50/ResNet18 model for feature extraction. To use this option, skip the `model.train_simsiam()` function below.\n",
    "1. [__SimSiam__](https://arxiv.org/abs/2011.10566) - SimSiam is a self-supervised neural network based on Siamese networks. It learns a meaningful representation of dataset without using any labels. We use SimSiam to generate quality features that can help differentiate between regular and anomaly images in a given context. SimSiam produces two different augmented images from one underlying image. The end goal is to train the network to produce the same features for both images. It takes ResNet50 as a backbone and fine-tunes the model on the augmented dataset to get a better feature embedding. Download the Sim-Siam weights based on ResNet50 - https://dl.fbaipublicfiles.com/simsiam/models/100ep-256bs/pretrain/checkpoint_0099.pth.tar - set `simsiam=True`, and set `initial_checkpoints` to the path of the downloaded checkpoints in the `model.train()` function."
   ]
  },
  {
   "cell_type": "code",
   "execution_count": null,
   "id": "74dff1f5-1a9f-493a-a922-62f2c0b2458c",
   "metadata": {},
   "outputs": [],
   "source": [
    "model.train_simsiam(train_loader_ss, output_dir, feature_dim=1000, pred_dim=250, epochs=2, initial_checkpoints=None)"
   ]
  },
  {
   "cell_type": "markdown",
   "id": "80e0070d-6302-4c07-a430-bcdf3836bd10",
   "metadata": {},
   "source": [
    "Once the SimSiam network is trained, we extract the ResNet component to use as a feature extraction module that will give discriminative features for input images."
   ]
  },
  {
   "cell_type": "code",
   "execution_count": null,
   "id": "89fe39b7",
   "metadata": {},
   "outputs": [],
   "source": [
    "print(\"Extracting features for\", len(train_loader.dataset), \"Training Images \\n\")\n",
    "eval_loader = torch.utils.data.DataLoader(trainset, batch_size=1, shuffle=False)\n",
    "data = next(iter(eval_loader))\n",
    "outputs_inner = model.extract_features(data['data'].to(device), layer, pooling=[pool, kernel_size])"
   ]
  },
  {
   "cell_type": "code",
   "execution_count": null,
   "id": "0d460230",
   "metadata": {},
   "outputs": [],
   "source": [
    "data_mats_orig = torch.empty((outputs_inner.shape[1], len(trainset))).to(device)\n",
    "with torch.no_grad():\n",
    "    data_idx = 0\n",
    "    num_ims = 0\n",
    "    for data in tqdm(train_loader):\n",
    "        images = data['data']\n",
    "        labels = data['label']\n",
    "        images, labels = images.to(device), labels.to(device)\n",
    "        num_samples = len(labels)\n",
    "        \n",
    "        outputs = model.extract_features(images, layer, pooling=[pool, kernel_size])\n",
    "        \n",
    "        oi = torch.squeeze(outputs)\n",
    "        data_mats_orig[:, data_idx:data_idx+num_samples] = oi.transpose(1, 0)\n",
    "        num_ims += 1\n",
    "        data_idx += num_samples"
   ]
  },
  {
   "cell_type": "markdown",
   "id": "2b7a4346-9d9d-47ed-bb59-3a08994be8b3",
   "metadata": {},
   "source": [
    "## PCA Modeling\n",
    "PCA is leveraged to compute the anomaly score using extracted features. First, it reduces the larger feature space into a smaller representation while retaining 99% variance and then attempts to reconstruct the original feature space using reduced features. The rationale is, since PCA kernel is trained on only regular images, it will have large reconstruction loss for anomaly images. Finally, reconstruction loss is used as anomaly score."
   ]
  },
  {
   "cell_type": "code",
   "execution_count": null,
   "id": "51d8434f",
   "metadata": {},
   "outputs": [],
   "source": [
    "print(\"Train PCA Kernel on training images \\n\")\n",
    "pca_mats = model.pca(data_mats_orig)\n",
    "features_reduced = pca_mats.transform(data_mats_orig.T)\n",
    "features_reconstructed = pca_mats.inverse_transform(features_reduced)\n",
    "print(\"Training Complete \\n\")"
   ]
  },
  {
   "cell_type": "markdown",
   "id": "8214acbc-b64e-49a6-a15b-6cad566b71de",
   "metadata": {},
   "source": [
    "## Evaluation"
   ]
  },
  {
   "cell_type": "code",
   "execution_count": null,
   "id": "7249b09a",
   "metadata": {},
   "outputs": [],
   "source": [
    "print(\"Inference Evaluation Begins on\", len(test_loader.dataset), \"Test Images \\n\")\n",
    "\n",
    "with torch.no_grad():\n",
    "    len_dataset = len(test_loader.dataset)\n",
    "    gt = torch.zeros(len_dataset)\n",
    "\n",
    "    scores = np.empty(len_dataset)\n",
    "\n",
    "    count = 0\n",
    "    time_inf = 0\n",
    "    time_score = 0\n",
    "    for k, data in enumerate(tqdm(test_loader)):\n",
    "\n",
    "        inputs = data['data'].to(memory_format=torch.channels_last)\n",
    "        labels = data['label']\n",
    "        num_im = inputs.shape[0]\n",
    "\n",
    "        outputs = model.extract_features(inputs, layer, pooling=[pool, kernel_size])\n",
    "\n",
    "        feature_shapes = outputs.shape\n",
    "        oi = outputs\n",
    "        oi_or = oi\n",
    "        oi_j = pca_mats.transform(oi)\n",
    "        oi_reconstructed = pca_mats.inverse_transform(oi_j)\n",
    "        fre = torch.square(oi_or - oi_reconstructed).reshape(feature_shapes)\n",
    "        fre_score = torch.sum(fre, dim=1)\n",
    "        scores[count: count + num_im] = -fre_score\n",
    "\n",
    "        gt[count:count + num_im] = labels\n",
    "        count += num_im\n",
    "\n",
    "    gt = gt.numpy()"
   ]
  },
  {
   "cell_type": "markdown",
   "id": "11bfbf72-2057-4bdf-8626-e9b0ac025baf",
   "metadata": {},
   "source": [
    "## AUROC Calculation\n",
    "AUROC is computed as area under the curve for ROC (Receiver Operating Characteristic) plot. It gives a more generic sense of model performance as it doesn’t rely on any single threshold. ROC plot compares the relationship between the True Positive Rate (TPR) and the False Positive Rate (FPR) across different thresholds."
   ]
  },
  {
   "cell_type": "code",
   "execution_count": null,
   "id": "a7955c3c",
   "metadata": {},
   "outputs": [],
   "source": [
    "print(\"AUROC is computed on\",  len_dataset, \"Test Images \\n\")\n",
    "fpr_binary, tpr_binary, thres = metrics.roc_curve(gt, scores)\n",
    "threshold = utils.find_threshold(fpr_binary, tpr_binary, thres)\n",
    "print(\"Best threshold for classification is \", threshold)\n",
    "auc_roc_binary = metrics.auc(fpr_binary, tpr_binary)\n",
    "accuracy_score = metrics.accuracy_score(gt, [1 if i>=threshold else 0 for i in scores])\n",
    "print(f'AUROC: {auc_roc_binary*100}')\n",
    "print(f'Accuracy: {accuracy_score*100}')"
   ]
  },
  {
   "cell_type": "markdown",
   "id": "0947915a",
   "metadata": {},
   "source": [
    "## Dataset Citations\n",
    "\n",
    "Paul Bergmann, Kilian Batzner, Michael Fauser, David Sattlegger, Carsten Steger: The MVTec Anomaly Detection Dataset: A Comprehensive Real-World Dataset for Unsupervised Anomaly Detection; in: International Journal of Computer Vision 129(4):1038-1059, 2021, DOI: 10.1007/s11263-020-01400-4.\n",
    "\n",
    "Paul Bergmann, Michael Fauser, David Sattlegger, Carsten Steger: MVTec AD — A Comprehensive Real-World Dataset for Unsupervised Anomaly Detection; in: IEEE/CVF Conference on Computer Vision and Pattern Recognition (CVPR), 9584-9592, 2019, DOI: 10.1109/CVPR.2019.00982."
   ]
  }
 ],
 "metadata": {
  "kernelspec": {
   "display_name": "Python 3 (ipykernel)",
   "language": "python",
   "name": "python3"
  },
  "language_info": {
   "codemirror_mode": {
    "name": "ipython",
    "version": 3
   },
   "file_extension": ".py",
   "mimetype": "text/x-python",
   "name": "python",
   "nbconvert_exporter": "python",
   "pygments_lexer": "ipython3",
   "version": "3.8.10"
  }
 },
 "nbformat": 4,
 "nbformat_minor": 5
}
