{
 "cells": [
  {
   "cell_type": "code",
   "execution_count": 1,
   "metadata": {},
   "outputs": [
    {
     "name": "stderr",
     "output_type": "stream",
     "text": [
      "/nfs/site/home/hramayan/.local/lib/python3.8/site-packages/tqdm/auto.py:22: TqdmWarning: IProgress not found. Please update jupyter and ipywidgets. See https://ipywidgets.readthedocs.io/en/stable/user_install.html\n",
      "  from .autonotebook import tqdm as notebook_tqdm\n"
     ]
    },
    {
     "name": "stdout",
     "output_type": "stream",
     "text": [
      "Dataset directory: /nfs/site/home/hramayan/datasets\n",
      "Output directory: /nfs/site/home/hramayan/saved_models\n",
      "annotation file:  /nfs/site/home/hramayan/datasets/annotation.csv\n",
      "True\n"
     ]
    }
   ],
   "source": [
    "import pandas as pd\n",
    "import numpy as np\n",
    "import os\n",
    "\n",
    "from tlt.datasets import dataset_factory\n",
    "from tlt.models.model_factory import get_model\n",
    "\n",
    "from torch.utils.data import DataLoader\n",
    "from transformers import AutoModelForSequenceClassification, AutoTokenizer\n",
    "from datasets.arrow_dataset import Dataset\n",
    "import datasets\n",
    "\n",
    "# Specify a directory for the dataset to be downloaded\n",
    "dataset_dir = os.environ[\"DATASET_DIR\"] if \"DATASET_DIR\" in os.environ else \\\n",
    "    os.path.join(os.environ[\"HOME\"], \"datasets\")\n",
    "     \n",
    "# Specify a directory for output\n",
    "output_dir = os.environ[\"OUTPUT_DIR\"] if \"OUTPUT_DIR\" in os.environ else \\\n",
    "    os.path.join(os.environ[\"HOME\"], \"outputs\")\n",
    "\n",
    "print(\"Dataset directory:\", dataset_dir)\n",
    "print(\"Output directory:\", output_dir)\n",
    "\n",
    "annotation_file = os.path.join(dataset_dir, 'annotation.csv')\n",
    "print(\"annotation file: \", annotation_file)\n",
    "print(os.path.exists(annotation_file))"
   ]
  },
  {
   "cell_type": "markdown",
   "metadata": {},
   "source": [
    "# Load \"annotation\" csv data"
   ]
  },
  {
   "cell_type": "code",
   "execution_count": 2,
   "metadata": {},
   "outputs": [],
   "source": [
    "def label_map_func(label):\n",
    "    if label == 'Normal':\n",
    "        return 0\n",
    "    elif label == 'Benign':\n",
    "        return 1\n",
    "    elif label == 'Malignant':\n",
    "        return 2"
   ]
  },
  {
   "cell_type": "code",
   "execution_count": 3,
   "metadata": {},
   "outputs": [
    {
     "name": "stdout",
     "output_type": "stream",
     "text": [
      "Dataset({\n",
      "    features: ['label', 'symptoms'],\n",
      "    num_rows: 1644\n",
      "})\n"
     ]
    }
   ],
   "source": [
    "dataset = dataset_factory.load_dataset(dataset_dir=dataset_dir,\n",
    "                                        use_case='text_classification',\n",
    "                                        framework='pytorch',\n",
    "                                        dataset_name='brca',\n",
    "                                        file_name='annotation',\n",
    "                                        label_map_func=label_map_func,\n",
    "                                        class_names=['Benign', 'Malignant', 'Normal'],\n",
    "                                        header=0,\n",
    "                                        usecols=[3, 4],\n",
    "                                        shuffle_files=True)\n",
    "\n",
    "\n",
    "print(dataset.dataset)"
   ]
  },
  {
   "cell_type": "markdown",
   "metadata": {},
   "source": [
    "# Preprocess"
   ]
  },
  {
   "cell_type": "code",
   "execution_count": 4,
   "metadata": {},
   "outputs": [
    {
     "name": "stderr",
     "output_type": "stream",
     "text": [
      "Downloading: 100%|████████████████████████████████████████████████████████████████████████████████████████████████████████████| 385/385 [00:00<00:00, 523kB/s]\n",
      "Downloading: 100%|██████████████████████████████████████████████████████████████████████████████████████████████████████████| 208k/208k [00:00<00:00, 248kB/s]\n",
      "Parameter 'function'=<function HFDataset.preprocess.<locals>.tokenize_function at 0x7fe57c5bb160> of the transform datasets.arrow_dataset.Dataset._map_single couldn't be hashed properly, a random hash was used instead. Make sure your transforms and parameters are serializable with pickle or dill for the dataset fingerprinting and caching to work. If you reuse this transform, the caching mechanism will consider it to be different from the previous calls and recompute everything. This warning is only showed once. Subsequent hashing failures won't be showed.\n",
      "100%|███████████████████████████████████████████████████████████████████████████████████████████████████████████████████████████| 2/2 [00:00<00:00, 22.98ba/s]"
     ]
    },
    {
     "name": "stdout",
     "output_type": "stream",
     "text": [
      "tokenized_dataset: Dataset({\n",
      "    features: ['labels', 'input_ids', 'token_type_ids', 'attention_mask'],\n",
      "    num_rows: 1644\n",
      "})\n"
     ]
    },
    {
     "name": "stderr",
     "output_type": "stream",
     "text": [
      "\n"
     ]
    }
   ],
   "source": [
    "dataset.preprocess('emilyalsentzer/Bio_ClinicalBERT', batch_size=5, padding=\"max_length\", max_length=64, truncation=True)"
   ]
  },
  {
   "cell_type": "markdown",
   "metadata": {},
   "source": [
    "# Shuffle split"
   ]
  },
  {
   "cell_type": "code",
   "execution_count": 5,
   "metadata": {},
   "outputs": [
    {
     "name": "stdout",
     "output_type": "stream",
     "text": [
      "Dataset split into:\n",
      "-------------------\n",
      "1315 train samples\n",
      "0 test samples\n",
      "328 validation samples\n"
     ]
    }
   ],
   "source": [
    "dataset.shuffle_split(train_pct=0.8, val_pct=0.2)"
   ]
  },
  {
   "cell_type": "markdown",
   "metadata": {},
   "source": [
    "# Get the clinical bert model"
   ]
  },
  {
   "cell_type": "code",
   "execution_count": 6,
   "metadata": {},
   "outputs": [
    {
     "name": "stderr",
     "output_type": "stream",
     "text": [
      "2022-11-17 17:43:11.528547: I tensorflow/core/util/util.cc:169] oneDNN custom operations are on. You may see slightly different numerical results due to floating-point round-off errors from different computation orders. To turn them off, set the environment variable `TF_ENABLE_ONEDNN_OPTS=0`.\n",
      "2022-11-17 17:43:11.531891: W tensorflow/stream_executor/platform/default/dso_loader.cc:64] Could not load dynamic library 'libcudart.so.11.0'; dlerror: libcudart.so.11.0: cannot open shared object file: No such file or directory\n",
      "2022-11-17 17:43:11.531901: I tensorflow/stream_executor/cuda/cudart_stub.cc:29] Ignore above cudart dlerror if you do not have a GPU set up on your machine.\n"
     ]
    },
    {
     "name": "stdout",
     "output_type": "stream",
     "text": [
      "huggingface/tokenizers: The current process just got forked, after parallelism has already been used. Disabling parallelism to avoid deadlocks...\n",
      "To disable this warning, you can either:\n",
      "\t- Avoid using `tokenizers` before the fork if possible\n",
      "\t- Explicitly set the environment variable TOKENIZERS_PARALLELISM=(true | false)\n"
     ]
    },
    {
     "name": "stderr",
     "output_type": "stream",
     "text": [
      "Downloading: 100%|████████████████████████████████████████████████████████████████████████████████████████████████████████████| 385/385 [00:00<00:00, 515kB/s]\n",
      "Downloading: 100%|█████████████████████████████████████████████████████████████████████████████████████████████████████████| 416M/416M [00:30<00:00, 14.5MB/s]\n",
      "Some weights of the model checkpoint at emilyalsentzer/Bio_ClinicalBERT were not used when initializing BertForSequenceClassification: ['cls.predictions.transform.LayerNorm.bias', 'cls.seq_relationship.bias', 'cls.seq_relationship.weight', 'cls.predictions.decoder.weight', 'cls.predictions.transform.dense.weight', 'cls.predictions.transform.LayerNorm.weight', 'cls.predictions.bias', 'cls.predictions.transform.dense.bias']\n",
      "- This IS expected if you are initializing BertForSequenceClassification from the checkpoint of a model trained on another task or with another architecture (e.g. initializing a BertForSequenceClassification model from a BertForPreTraining model).\n",
      "- This IS NOT expected if you are initializing BertForSequenceClassification from the checkpoint of a model that you expect to be exactly identical (initializing a BertForSequenceClassification model from a BertForSequenceClassification model).\n",
      "Some weights of BertForSequenceClassification were not initialized from the model checkpoint at emilyalsentzer/Bio_ClinicalBERT and are newly initialized: ['classifier.bias', 'classifier.weight']\n",
      "You should probably TRAIN this model on a down-stream task to be able to use it for predictions and inference.\n"
     ]
    }
   ],
   "source": [
    "model = get_model(model_name='clinical-bert', framework='pytorch', num_labels=3)"
   ]
  },
  {
   "cell_type": "markdown",
   "metadata": {},
   "source": [
    "# Train the model"
   ]
  },
  {
   "cell_type": "code",
   "execution_count": 7,
   "metadata": {},
   "outputs": [
    {
     "name": "stderr",
     "output_type": "stream",
     "text": [
      "/nfs/site/home/hramayan/.local/lib/python3.8/site-packages/intel_extension_for_pytorch/frontend.py:244: UserWarning: Conv BatchNorm folding failed during the optimize process.\n",
      "  warnings.warn(\"Conv BatchNorm folding failed during the optimize process.\")\n"
     ]
    },
    {
     "name": "stdout",
     "output_type": "stream",
     "text": [
      "Epoch 1/5\n",
      "----------\n"
     ]
    },
    {
     "name": "stderr",
     "output_type": "stream",
     "text": [
      "100%|██████████████████████████████████████████████████| 263/263 [00:51<00:00,  5.14it/s]                                                                     \n",
      "100%|██████████████████████████████████████████████████| 66/66 [00:03<00:00, 19.29it/s]                                                                       \n"
     ]
    },
    {
     "name": "stdout",
     "output_type": "stream",
     "text": [
      "Epoch 2/5\n",
      "----------\n"
     ]
    },
    {
     "name": "stderr",
     "output_type": "stream",
     "text": [
      "100%|██████████████████████████████████████████████████| 263/263 [00:39<00:00,  6.58it/s]                                                                     \n",
      "100%|██████████████████████████████████████████████████| 66/66 [00:03<00:00, 19.02it/s]                                                                       \n"
     ]
    },
    {
     "name": "stdout",
     "output_type": "stream",
     "text": [
      "Epoch 3/5\n",
      "----------\n"
     ]
    },
    {
     "name": "stderr",
     "output_type": "stream",
     "text": [
      "100%|██████████████████████████████████████████████████| 263/263 [00:39<00:00,  6.71it/s]                                                                     \n",
      "100%|██████████████████████████████████████████████████| 66/66 [00:03<00:00, 18.15it/s]                                                                       \n"
     ]
    },
    {
     "name": "stdout",
     "output_type": "stream",
     "text": [
      "Epoch 4/5\n",
      "----------\n"
     ]
    },
    {
     "name": "stderr",
     "output_type": "stream",
     "text": [
      "100%|██████████████████████████████████████████████████| 263/263 [00:39<00:00,  6.70it/s]                                                                     \n",
      "100%|██████████████████████████████████████████████████| 66/66 [00:03<00:00, 19.56it/s]                                                                       \n"
     ]
    },
    {
     "name": "stdout",
     "output_type": "stream",
     "text": [
      "Epoch 5/5\n",
      "----------\n"
     ]
    },
    {
     "name": "stderr",
     "output_type": "stream",
     "text": [
      "100%|██████████████████████████████████████████████████| 263/263 [00:38<00:00,  6.77it/s]                                                                     \n",
      "100%|██████████████████████████████████████████████████| 66/66 [00:03<00:00, 19.17it/s]                                                                       \n"
     ]
    },
    {
     "data": {
      "text/plain": [
       "{'Loss': [6.209681091879711,\n",
       "  6.209681102078224,\n",
       "  6.209681124741587,\n",
       "  6.209681059017834,\n",
       "  6.209681105477729],\n",
       " 'Acc': [0.28821292775665397,\n",
       "  0.28821292775665397,\n",
       "  0.28821292775665397,\n",
       "  0.28821292775665397,\n",
       "  0.28821292775665397],\n",
       " 'Val Loss': [6.009616067012151,\n",
       "  6.009616123004393,\n",
       "  6.00961601282611,\n",
       "  6.009616044434634,\n",
       "  6.009616020954017],\n",
       " 'Val Acc': [0.3079268292682927,\n",
       "  0.3079268292682927,\n",
       "  0.3079268292682927,\n",
       "  0.3079268292682927,\n",
       "  0.3079268292682927]}"
      ]
     },
     "execution_count": 7,
     "metadata": {},
     "output_type": "execute_result"
    }
   ],
   "source": [
    "model.train(dataset=dataset, output_dir=output_dir, epochs=5)"
   ]
  },
  {
   "cell_type": "code",
   "execution_count": null,
   "metadata": {},
   "outputs": [],
   "source": []
  },
  {
   "cell_type": "code",
   "execution_count": null,
   "metadata": {},
   "outputs": [],
   "source": []
  }
 ],
 "metadata": {
  "kernelspec": {
   "display_name": "Python 3 (ipykernel)",
   "language": "python",
   "name": "python3"
  },
  "language_info": {
   "codemirror_mode": {
    "name": "ipython",
    "version": 3
   },
   "file_extension": ".py",
   "mimetype": "text/x-python",
   "name": "python",
   "nbconvert_exporter": "python",
   "pygments_lexer": "ipython3",
   "version": "3.8.13"
  },
  "vscode": {
   "interpreter": {
    "hash": "642ff489edf777eca0ac22aa731a12e6ca00eb970e3b5cf964e2fad7417b91ae"
   }
  }
 },
 "nbformat": 4,
 "nbformat_minor": 4
}
